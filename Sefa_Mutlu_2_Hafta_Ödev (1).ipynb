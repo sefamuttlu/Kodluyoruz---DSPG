{
 "cells": [
  {
   "cell_type": "markdown",
   "metadata": {
    "id": "NKXfnEDjkNEX"
   },
   "source": [
    "## **Question_1**"
   ]
  },
  {
   "cell_type": "markdown",
   "metadata": {
    "id": "QvmzB0Q8kaRx"
   },
   "source": [
    "Write a code that modifies the given matrix M (with 3 rows and 4 columns), by swapping the (whole) columns 0 and 1.\n",
    "\n",
    "M = [[11, 12, 13, 14], [21, 22, 23, 24], [31, 32, 33, 34]]\n",
    "\n",
    "The matrix M above should become the matrix below;\n",
    "\n",
    "M = [[12, 11, 13, 14], [22, 21, 23, 24], [32, 31, 33, 34]]"
   ]
  },
  {
   "cell_type": "code",
   "execution_count": 1,
   "metadata": {},
   "outputs": [],
   "source": [
    "M = [[11, 12, 13, 14], [21, 22, 23, 24], [31, 32, 33, 34]]"
   ]
  },
  {
   "cell_type": "code",
   "execution_count": 2,
   "metadata": {},
   "outputs": [
    {
     "name": "stdout",
     "output_type": "stream",
     "text": [
      "[[12, 11, 13, 14], [22, 21, 23, 24], [32, 31, 33, 34]]\n"
     ]
    }
   ],
   "source": [
    "for i in range(len(M)):\n",
    "  M[i][0], M[i][1] = M[i][1], M[i][0]\n",
    "\n",
    "print(M)"
   ]
  },
  {
   "cell_type": "markdown",
   "metadata": {
    "id": "qmEZpVU6kdBS"
   },
   "source": [
    "## **Question_2**"
   ]
  },
  {
   "cell_type": "markdown",
   "metadata": {
    "id": "Q5icKm9fkXyh"
   },
   "source": [
    "Find the maximal element of the matrix M and print the row number and column number of the maximal element as a tuple.\n",
    "\n",
    "M = [[0, 3, 2, 4], [2, 7, 5, 9], [6, 1, 2, 3]]\n",
    "\n",
    "The output of the code should be row number and column number of the maximal element as a tuple.\n",
    "(1,3)"
   ]
  },
  {
   "cell_type": "code",
   "execution_count": 3,
   "metadata": {},
   "outputs": [],
   "source": [
    "L = [[0, 3, 2, 4], [2, 7, 5, 9], [6, 1, 2, 3]]"
   ]
  },
  {
   "cell_type": "code",
   "execution_count": 4,
   "metadata": {},
   "outputs": [
    {
     "name": "stdout",
     "output_type": "stream",
     "text": [
      "9\n",
      "(1, 3)\n"
     ]
    }
   ],
   "source": [
    "m = L[0][0]\n",
    "t = ()\n",
    "for i in range(len(L)):\n",
    "    for j in range(len(L[i])):    \n",
    "        if m <= L[i][j]:\n",
    "            m = L[i][j]\n",
    "            t = (i, j)\n",
    "print(m)\n",
    "\n",
    "print(t)"
   ]
  },
  {
   "cell_type": "markdown",
   "metadata": {
    "id": "_900CukDkUnG"
   },
   "source": [
    "### **Question_3**"
   ]
  },
  {
   "cell_type": "markdown",
   "metadata": {
    "id": "43D7Vqj1k5FU"
   },
   "source": [
    "Given two lists of numbers, count how many unique numbers occur in both of them.\n",
    "\n",
    "For example, on input\n",
    "\n",
    "list_1 = [5, 3, 3, 10, 40]\n",
    "\n",
    "list_2 = [40, 3, 40, 1, 2]\n",
    "\n",
    "output must be\n",
    "\n",
    "6"
   ]
  },
  {
   "cell_type": "code",
   "execution_count": 5,
   "metadata": {},
   "outputs": [],
   "source": [
    "list_1 = [5, 3, 3, 10, 40]\n",
    "\n",
    "list_2 = [40, 3, 40, 1, 2]"
   ]
  },
  {
   "cell_type": "code",
   "execution_count": 6,
   "metadata": {},
   "outputs": [
    {
     "name": "stdout",
     "output_type": "stream",
     "text": [
      "6\n"
     ]
    }
   ],
   "source": [
    "s = set(list_1 + list_2)\n",
    "unique_numbers = len(s)\n",
    "\n",
    "print(unique_numbers)"
   ]
  },
  {
   "cell_type": "markdown",
   "metadata": {
    "id": "n95IilrhlRXk"
   },
   "source": [
    "### **Question_4**"
   ]
  },
  {
   "cell_type": "markdown",
   "metadata": {
    "id": "aAIsrJ-DlbeL"
   },
   "source": [
    "We have a dictionary containing the math grades and the student number of 5 students. Calculate the mean of the grades and then prints out the name of the students who are above and below that average(and if any print that are equals to the mean as well):\n",
    "\n",
    "For example if the grades are\n",
    "\n",
    "- Jane: 30\n",
    "\n",
    "- Pat: 40\n",
    "\n",
    "- Denis: 50\n",
    "\n",
    "- Max: 60\n",
    "\n",
    "- Lara: 70\n",
    "\n",
    "Then the mean is 50\n",
    "\n",
    "your program should print:\n",
    "\n",
    "*\"Grade(s) of Jane and Pat are below the average\"*\n",
    "\n",
    "*\"Grade(s) of Denis is equal to the mean\"*\n",
    "\n",
    "*\"Grade(s) of Max and Lara are above the average\"*"
   ]
  },
  {
   "cell_type": "code",
   "execution_count": 7,
   "metadata": {
    "id": "TknZZpe2m42w"
   },
   "outputs": [],
   "source": [
    "# Solve this question using dictionary below\n",
    "students = {\"Jane\":{\"grade\":90,\"student_number\":4012}, \n",
    "          \"Pat\":{\"grade\":81,\"student_number\":4052},\n",
    "          \"Denis\":{\"grade\":70,\"student_number\":4089},\n",
    "          \"Max\":{\"grade\":72,\"student_number\":4322},\n",
    "          \"Lara\":{\"grade\":74,\"student_number\":4042}}"
   ]
  },
  {
   "cell_type": "code",
   "execution_count": 8,
   "metadata": {
    "id": "z682LuvwXdCr"
   },
   "outputs": [
    {
     "name": "stdout",
     "output_type": "stream",
     "text": [
      " Average is 77.4\n",
      "Grades of Denis, Max, Lara are below the average.\n",
      "Grades of Jane, Pat are above the average.\n",
      "Grades of  are equal the average.\n"
     ]
    }
   ],
   "source": [
    "gr = []\n",
    "\n",
    "for s in students:\n",
    "    gr.append(students[s][\"grade\"])\n",
    "    \n",
    "average = sum(gr)/len(gr)\n",
    "\n",
    "below = []\n",
    "equal = []\n",
    "above = []\n",
    "\n",
    "for s in students:\n",
    "    if students[s][\"grade\"] < average:\n",
    "        below.append(s)\n",
    "    \n",
    "    elif students[s][\"grade\"] > average:\n",
    "        above.append(s)\n",
    "    \n",
    "    else:\n",
    "        equal.append(s)\n",
    "\n",
    "print(f' Average is {average}')\n",
    "\n",
    "print(\"Grades of\", ', '.join(below), \"are below the average.\")\n",
    "print(\"Grades of\", ', '.join(above), \"are above the average.\")\n",
    "print(\"Grades of\", ', '.join(equal), \"are equal the average.\")        "
   ]
  },
  {
   "cell_type": "markdown",
   "metadata": {
    "id": "GRVlS2BjmfAY"
   },
   "source": [
    "### **Question_5**"
   ]
  },
  {
   "cell_type": "markdown",
   "metadata": {
    "id": "hYUbia7pmmot"
   },
   "source": [
    "A theatre sells batches of 1 to 4 tickets per sale (if available). Initially there are 200 tickets. Write a Python program that repeatedly tells the user how many tickets are left, asks for how many tickets the user wants to buy, indicates minimum and maximum numbers to buy, and reads the user's input. This continues until all tickets have been sold. At the end, the program prints how many sales transactions have been performed. For example, we might have the following interaction:\n",
    "\n",
    "\n",
    "200 tickets remaining\n",
    "\n",
    "How many do you want to buy?\n",
    "\n",
    "Minimum 1, maximum 4\n",
    "\n",
    "3\n",
    "\n",
    "197 tickets remaining\n",
    "\n",
    "How many do you want to buy?\n",
    "\n",
    "Minimum 1, maximum 4\n",
    "\n",
    "4\n",
    "\n",
    "(...)\n",
    "\n",
    "2 tickets remaining\n",
    "\n",
    "How many do you want to buy?\n",
    "\n",
    "Minimum 1, maximum 2\n",
    "\n",
    "2\n",
    "\n",
    "86 sales transactions\n",
    "\n",
    "\n",
    "(You may assume that the user enters the data correctly, i.e., all values are integers between the current minimum and maximum numbers they may buy.)"
   ]
  },
  {
   "cell_type": "code",
   "execution_count": null,
   "metadata": {},
   "outputs": [
    {
     "name": "stdout",
     "output_type": "stream",
     "text": [
      "How many do you want to buy? \n",
      " Minimum 1 Maximum 4\n",
      "4\n",
      "196 tickets remaining\n",
      "How many do you want to buy? \n",
      " Minimum 1 Maximum 4\n",
      "4\n",
      "192 tickets remaining\n"
     ]
    }
   ],
   "source": [
    "ticket = 200\n",
    "sale = 0\n",
    "maximum = 4\n",
    "\n",
    "while ticket > 0:\n",
    "    sold = int(input(f'How many do you want to buy? \\n Minimum 1 Maximum {maximum}\\n'))\n",
    "    if 1 <= sold <= 4:\n",
    "        ticket -= sold\n",
    "        print(f'{ticket} tickets remaining')\n",
    "        sale += 1\n",
    "        if ticket < 4:\n",
    "            maximum = ticket\n",
    "    else:\n",
    "        print(\"please enter a value between 1 and 4\")\n",
    "        \n",
    "print(f'{sale} sales transactions') \n"
   ]
  },
  {
   "cell_type": "code",
   "execution_count": null,
   "metadata": {},
   "outputs": [],
   "source": []
  }
 ],
 "metadata": {
  "colab": {
   "name": "2. Hafta-Ödev.ipynb",
   "provenance": []
  },
  "kernelspec": {
   "display_name": "Python 3",
   "language": "python",
   "name": "python3"
  },
  "language_info": {
   "codemirror_mode": {
    "name": "ipython",
    "version": 3
   },
   "file_extension": ".py",
   "mimetype": "text/x-python",
   "name": "python",
   "nbconvert_exporter": "python",
   "pygments_lexer": "ipython3",
   "version": "3.8.3"
  }
 },
 "nbformat": 4,
 "nbformat_minor": 1
}
