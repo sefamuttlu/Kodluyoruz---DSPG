{
 "cells": [
  {
   "cell_type": "markdown",
   "metadata": {
    "id": "PsvE3xhWLKKm"
   },
   "source": [
    "## 1) Power(Iterative):\n",
    "\n",
    "Write a program that calculates n'th power of a given number iteratively"
   ]
  },
  {
   "cell_type": "code",
   "execution_count": null,
   "metadata": {
    "id": "fIbZgWP6LKKn"
   },
   "outputs": [],
   "source": [
    "def iter_power(x, n): # It sould return x^n, and yes you cannot use x**n for this problem -_-\n",
    "    pass"
   ]
  },
  {
   "cell_type": "code",
   "execution_count": 1,
   "metadata": {
    "id": "Z0oLtRG3UZuw"
   },
   "outputs": [],
   "source": [
    "def iter_power(x,n):\n",
    "    res = 1\n",
    "    if n >= 0:\n",
    "        for i in range(1, n+1):\n",
    "            res *= x \n",
    "            return res\n",
    "    if n < 0:\n",
    "        for i in range(1, abs(n-1)):\n",
    "            res /= x \n",
    "    return res\n"
   ]
  },
  {
   "cell_type": "code",
   "execution_count": 2,
   "metadata": {
    "colab": {
     "base_uri": "https://localhost:8080/"
    },
    "id": "txY0GahTLZ2K",
    "outputId": "0360bfb1-854e-4da5-914e-01c4a5afc19c"
   },
   "outputs": [
    {
     "data": {
      "text/plain": [
       "0.125"
      ]
     },
     "execution_count": 2,
     "metadata": {},
     "output_type": "execute_result"
    }
   ],
   "source": [
    "iter_power(2,-3)"
   ]
  },
  {
   "cell_type": "markdown",
   "metadata": {
    "id": "L_NyuFUrLKKo"
   },
   "source": [
    "## 2) Power(Recursive):\n",
    "\n",
    "Write a program that calculates n'th power of a given number recursively"
   ]
  },
  {
   "cell_type": "code",
   "execution_count": 3,
   "metadata": {
    "id": "cVLuqhDaqbr6"
   },
   "outputs": [],
   "source": [
    "def recur_power(x, n):\n",
    "    if n > 0:\n",
    "        if n == 1:\n",
    "            return x\n",
    "        return x * recur_power(x, n-1)\n",
    "    \n",
    "    if n <= 0:\n",
    "        if n == 0:\n",
    "            return 1\n",
    "        if n == -1:\n",
    "            return 1/x\n",
    "        return 1 / x * recur_power(x,(n+1))\n"
   ]
  },
  {
   "cell_type": "code",
   "execution_count": 4,
   "metadata": {
    "colab": {
     "base_uri": "https://localhost:8080/"
    },
    "id": "_pLMbbKrMEoo",
    "outputId": "fcdd6f7e-cf1f-404f-d114-1a019de62a8c"
   },
   "outputs": [
    {
     "data": {
      "text/plain": [
       "0.0625"
      ]
     },
     "execution_count": 4,
     "metadata": {},
     "output_type": "execute_result"
    }
   ],
   "source": [
    "recur_power(2,-4)"
   ]
  },
  {
   "cell_type": "markdown",
   "metadata": {
    "id": "pMeZx1-wL5nL"
   },
   "source": []
  },
  {
   "cell_type": "markdown",
   "metadata": {
    "id": "aG4NmUKVLKKo"
   },
   "source": [
    "### 3) Key with the maximum number of values:\n",
    "\n",
    "Given dictionary d, return a key that has a maximum value associated with it\n",
    "\n",
    "for example if d = {\"a\":[1,2,3], \"b\":[45,43,21,23], \"c\":[3,4,5]}\n",
    "\n",
    "it should return \"b\""
   ]
  },
  {
   "cell_type": "code",
   "execution_count": 5,
   "metadata": {
    "id": "h3JkvM_9ypIb"
   },
   "outputs": [],
   "source": [
    "d = {\"a\":[1,2,3], \"b\":[45,43,21,23], \"c\":[3,4,5]}"
   ]
  },
  {
   "cell_type": "code",
   "execution_count": 6,
   "metadata": {
    "id": "bCELOujS3C4e"
   },
   "outputs": [],
   "source": [
    "def max_key(d):\n",
    "    v = list(d.values())\n",
    "    k = list(d.keys())\n",
    "    return (k[v.index(max(v))])"
   ]
  },
  {
   "cell_type": "code",
   "execution_count": 7,
   "metadata": {
    "colab": {
     "base_uri": "https://localhost:8080/",
     "height": 35
    },
    "id": "hlodD2dXDIPC",
    "outputId": "5a5d7b88-f46b-487f-aaf5-e081cb43a58a"
   },
   "outputs": [
    {
     "data": {
      "text/plain": [
       "'b'"
      ]
     },
     "execution_count": 7,
     "metadata": {},
     "output_type": "execute_result"
    }
   ],
   "source": [
    "max_key(d)"
   ]
  },
  {
   "cell_type": "code",
   "execution_count": 8,
   "metadata": {
    "id": "qc97YiC-UO-a"
   },
   "outputs": [],
   "source": [
    "#method 2\n",
    "def max_key2(d):\n",
    "    a = max(d, key=d.get)\n",
    "    return a\n",
    "  "
   ]
  },
  {
   "cell_type": "code",
   "execution_count": 9,
   "metadata": {
    "colab": {
     "base_uri": "https://localhost:8080/",
     "height": 35
    },
    "id": "9a5Evyw6H-5g",
    "outputId": "248d7371-c20e-4294-bde0-f6b1f717b61d"
   },
   "outputs": [
    {
     "data": {
      "text/plain": [
       "'b'"
      ]
     },
     "execution_count": 9,
     "metadata": {},
     "output_type": "execute_result"
    }
   ],
   "source": [
    "max_key2(d)"
   ]
  },
  {
   "cell_type": "markdown",
   "metadata": {
    "id": "cO2qE7lxLKKp"
   },
   "source": [
    "### 4) Fibonacci serisini recursive olarak dictionary kullanarak yapmak \n",
    "\n",
    "fib(2) yi bir kere hesapladıysa başka bir function call'da bir daha hesaplamasın değerini dictionaryden bulup koysun gibi\n"
   ]
  },
  {
   "cell_type": "code",
   "execution_count": 10,
   "metadata": {
    "id": "GQSx7WcyPvkw"
   },
   "outputs": [],
   "source": [
    "d1 = {0:0, 1:1}\n",
    "def fib(x):\n",
    "    if x in d1:\n",
    "        return d1[x]\n",
    "    else:\n",
    "        v = fib(x-1) + fib(x-2)\n",
    "        d1[x] = v\n",
    "        print(d1)\n",
    "        return d1[x]\n",
    "\n"
   ]
  },
  {
   "cell_type": "code",
   "execution_count": 11,
   "metadata": {
    "colab": {
     "base_uri": "https://localhost:8080/"
    },
    "id": "-5drTy8ncxxs",
    "outputId": "46b10d29-8774-4907-ab1f-597cc7d7aa2c"
   },
   "outputs": [
    {
     "name": "stdout",
     "output_type": "stream",
     "text": [
      "{0: 0, 1: 1, 2: 1}\n",
      "{0: 0, 1: 1, 2: 1, 3: 2}\n",
      "{0: 0, 1: 1, 2: 1, 3: 2, 4: 3}\n",
      "{0: 0, 1: 1, 2: 1, 3: 2, 4: 3, 5: 5}\n",
      "{0: 0, 1: 1, 2: 1, 3: 2, 4: 3, 5: 5, 6: 8}\n"
     ]
    },
    {
     "data": {
      "text/plain": [
       "8"
      ]
     },
     "execution_count": 11,
     "metadata": {},
     "output_type": "execute_result"
    }
   ],
   "source": [
    "fib(6)"
   ]
  },
  {
   "cell_type": "code",
   "execution_count": 12,
   "metadata": {
    "colab": {
     "base_uri": "https://localhost:8080/"
    },
    "id": "aXBtFnuHc3mC",
    "outputId": "23bf290c-e37d-45aa-9cae-af5e79286d06"
   },
   "outputs": [
    {
     "data": {
      "text/plain": [
       "8"
      ]
     },
     "execution_count": 12,
     "metadata": {},
     "output_type": "execute_result"
    }
   ],
   "source": [
    "fib(6)"
   ]
  },
  {
   "cell_type": "code",
   "execution_count": null,
   "metadata": {
    "id": "No0-baKvc5D7"
   },
   "outputs": [],
   "source": []
  }
 ],
 "metadata": {
  "colab": {
   "collapsed_sections": [],
   "name": "Sefa_Mutlu_2_Ödev.ipynb",
   "provenance": []
  },
  "kernelspec": {
   "display_name": "Python 3",
   "language": "python",
   "name": "python3"
  },
  "language_info": {
   "codemirror_mode": {
    "name": "ipython",
    "version": 3
   },
   "file_extension": ".py",
   "mimetype": "text/x-python",
   "name": "python",
   "nbconvert_exporter": "python",
   "pygments_lexer": "ipython3",
   "version": "3.8.3"
  }
 },
 "nbformat": 4,
 "nbformat_minor": 1
}
